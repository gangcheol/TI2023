{
 "cells": [
  {
   "cell_type": "raw",
   "id": "9407443a-3ed6-4a9c-986c-41ea374bbd97",
   "metadata": {},
   "source": [
    "---\n",
    "title : \"02. 퀵테이블 계산하기 (1)\"\n",
    "author : \"GANGCHEOL LEE\"\n",
    "date : \"08/09/23\"\n",
    "categories : [\"tableau \"]\n",
    "---"
   ]
  },
  {
   "cell_type": "markdown",
   "id": "b1d1434e-d168-4246-beb8-b03317900f69",
   "metadata": {},
   "source": [
    "# 1. 누계"
   ]
  },
  {
   "cell_type": "markdown",
   "id": "8f70b94a-ec39-4c6a-8ee7-18fb77d996a4",
   "metadata": {},
   "source": [
    "`-` 월별 매출과 누적매출화면 작성"
   ]
  },
  {
   "cell_type": "markdown",
   "id": "bb6e1962-6917-4aaa-909d-0927c88d65f6",
   "metadata": {},
   "source": [
    "`1` 다음과 같이 선반에 각각의 변수를 설정"
   ]
  },
  {
   "cell_type": "markdown",
   "id": "40384d8a-c3ee-4ee5-9ee2-5d35553222cb",
   "metadata": {},
   "source": [
    "<img src = \"30.png\" width = 250>"
   ]
  },
  {
   "cell_type": "markdown",
   "id": "d6de63c6-67c3-440f-8f9a-8c4c61c7106b",
   "metadata": {},
   "source": [
    "`2` 그후 누계 계산을 위해 다음과 같이 선택"
   ]
  },
  {
   "cell_type": "markdown",
   "id": "b896f914-f0b2-442a-bc46-0f854312761e",
   "metadata": {},
   "source": [
    "<img src = \"31.png\" width = 250>"
   ]
  },
  {
   "cell_type": "markdown",
   "id": "507c369c-d811-4355-9b9c-995552fa80d8",
   "metadata": {},
   "source": [
    "`3` 두 그래프를 합치기 위해 이중축을 선택"
   ]
  },
  {
   "cell_type": "markdown",
   "id": "d97abdae-06c7-4cb4-b07a-18ec348a5fde",
   "metadata": {},
   "source": [
    "<img src = \"32.png\" width = 250>"
   ]
  },
  {
   "cell_type": "markdown",
   "id": "a0231404-4ffd-4fd1-821e-bbc30f949ae9",
   "metadata": {},
   "source": [
    "`4` 생성된 월별 매출과 누계 차트"
   ]
  },
  {
   "cell_type": "markdown",
   "id": "27a1fee2-c37e-4535-8691-23d78be16f17",
   "metadata": {},
   "source": [
    "<img src = \"33.png\" width = 550>"
   ]
  },
  {
   "cell_type": "markdown",
   "id": "360f0c3b-7a89-48a7-a8f9-4398aeb1ccff",
   "metadata": {},
   "source": [
    "# 2. 차이"
   ]
  },
  {
   "cell_type": "markdown",
   "id": "ab70c6fe-4ac2-42e1-9c22-ccf5ade3e076",
   "metadata": {},
   "source": [
    "`1` 분기별 매출을 확인하고 마커를 막대차트로 변경"
   ]
  },
  {
   "cell_type": "markdown",
   "id": "2f834b0f-6a66-4eac-a8ff-5664c0d95241",
   "metadata": {},
   "source": [
    "<img src = \"34.png\" width = 250>"
   ]
  },
  {
   "cell_type": "markdown",
   "id": "29b19339-b3aa-4e64-b464-d811f75415cd",
   "metadata": {},
   "source": [
    "`2` 퀵테이블에서 차이선택"
   ]
  },
  {
   "cell_type": "markdown",
   "id": "fb5b4ccf-7089-4a5c-bb3a-d61b8be3f903",
   "metadata": {},
   "source": [
    "<img src = \"35.png\" width = 150>"
   ]
  },
  {
   "cell_type": "markdown",
   "id": "73bc2fc7-eecc-4cc8-ab78-74476e0b4ffd",
   "metadata": {},
   "source": [
    "`3` +,- 에 따라 색깔 넣기"
   ]
  },
  {
   "cell_type": "markdown",
   "id": "64a14ec6-bdd9-40ca-86fc-9390a64b0708",
   "metadata": {},
   "source": [
    "<img src = \"36.png\" width = 250>"
   ]
  },
  {
   "cell_type": "markdown",
   "id": "907fd49d-4864-48db-9a5b-fdccf25c326e",
   "metadata": {},
   "source": [
    "`4`. 시트를 하나 새로 만든 후 선반과 마커에서 다음 과정을 수행"
   ]
  },
  {
   "cell_type": "markdown",
   "id": "2639a2cf-a1d3-4618-8d5f-7f8a3c79e309",
   "metadata": {},
   "source": [
    "<img src = \"37.png\" width = 350>"
   ]
  },
  {
   "cell_type": "markdown",
   "id": "8683945b-3533-42d9-a4ed-795294ab9f22",
   "metadata": {},
   "source": [
    "`5` 각 연도별 1월을 제외한 모든 월을 1월과 비교"
   ]
  },
  {
   "cell_type": "markdown",
   "id": "02da0edd-ff03-4e86-b4dc-c6397659cddc",
   "metadata": {},
   "source": [
    "<img src = \"38.png\" width = 250>"
   ]
  },
  {
   "cell_type": "markdown",
   "id": "bc8c20ec-7ef7-4888-9a51-0bb835ddc377",
   "metadata": {},
   "source": [
    "`6` 그러나 모든 데이터가 2018년 1월과 비교하고 있으므로 다음과 같이 변경"
   ]
  },
  {
   "cell_type": "markdown",
   "id": "9cc2b699-7975-4808-b6f2-493c8e483d87",
   "metadata": {},
   "source": [
    "<img src = \"39.png\" width = 250>"
   ]
  },
  {
   "cell_type": "markdown",
   "id": "fb6f12b7-82ee-4bc0-836c-5dd9565293a8",
   "metadata": {},
   "source": [
    "`7` 비율 차이도 살펴볼 수 있음!"
   ]
  },
  {
   "cell_type": "markdown",
   "id": "590f43e8-e83c-47dd-8332-ceedec55ab1a",
   "metadata": {},
   "source": [
    "<img src = \"40.png\" width = 250>"
   ]
  },
  {
   "cell_type": "markdown",
   "id": "a1732bcb-2c25-4461-a64c-7f14fb5d3462",
   "metadata": {},
   "source": [
    "# 3. 구성 비율"
   ]
  },
  {
   "cell_type": "markdown",
   "id": "93720dc7-b815-4413-973c-f42d68e9a027",
   "metadata": {},
   "source": [
    "`1` 퀵테이블 구성비율 게산"
   ]
  },
  {
   "cell_type": "markdown",
   "id": "b3ebc9a5-cb7e-4b95-bba2-1816b247ae96",
   "metadata": {},
   "source": [
    "<img src = \"41.png\" width = 350>"
   ]
  },
  {
   "cell_type": "markdown",
   "id": "7772da7c-9dbf-4d0b-9822-37e8fb605d31",
   "metadata": {},
   "source": [
    "`2` 테이블 계산 편집 `다음을 사용하여 계산`에서 `제품 대분류` 체크박스 해제"
   ]
  },
  {
   "cell_type": "markdown",
   "id": "fe18f8d6-8c02-4abe-8144-e5578a61541c",
   "metadata": {},
   "source": [
    "`3` 분석 패널에 있는 총계를 소계로 드래그"
   ]
  },
  {
   "cell_type": "markdown",
   "id": "ba455160-6863-40ee-ab2c-12073824633b",
   "metadata": {},
   "source": [
    "<img src = \"42.png\" width = 450>"
   ]
  },
  {
   "cell_type": "markdown",
   "id": "186b6d3a-4fe0-4a11-b5a4-71bab0fad552",
   "metadata": {},
   "source": [
    "# 4. 순위"
   ]
  },
  {
   "cell_type": "markdown",
   "id": "5d7c6ea7-d4eb-4ca5-bdab-ffc7efd7b4df",
   "metadata": {},
   "source": [
    "`1` 퀵 테이블 계산에서 순위 선택"
   ]
  },
  {
   "cell_type": "markdown",
   "id": "b0e8e97b-30fe-46ba-99a1-dbc1a97c14ec",
   "metadata": {},
   "source": [
    "<img src = \"43.png\" width = 350>"
   ]
  },
  {
   "cell_type": "markdown",
   "id": "3828e401-c8dd-4b0c-871f-22c693cb0279",
   "metadata": {},
   "source": [
    "`2` 테이블 계산편집을 이용하여 전과 같이 체크박스 해제"
   ]
  },
  {
   "cell_type": "markdown",
   "id": "d1f47b42-0f6f-4896-824a-4a0bc7aeeb06",
   "metadata": {},
   "source": [
    "`3` 마커에 매출을 하나 더 추가에 퀵테이블 계산 $\\to$ 순위를 선택하여 전체 순위 테이블도 추가"
   ]
  },
  {
   "cell_type": "markdown",
   "id": "b27e3ca3-539f-415d-bf21-d0d0a530f5c9",
   "metadata": {},
   "source": [
    "`4` 정수 표현 : 각 매출 마커에 서식에서 패널로 들어가 표시형식을 표준으로 변경"
   ]
  },
  {
   "cell_type": "markdown",
   "id": "84f0d601-81d2-443b-ada3-9d1b52d18050",
   "metadata": {},
   "source": [
    "`5` 생성된 테이블에 가독성을 위해 마커에 있는 계산된 순위 매출을 `테이블 리스트`로 던진 후 이름을 변경"
   ]
  },
  {
   "cell_type": "markdown",
   "id": "cd4fb2a7-e189-42dc-b209-9eb7b18b55fa",
   "metadata": {},
   "source": [
    "`6` 그후, 합계 매출을 마커에 추가하여 합계 매출을 기준으로 내림차순 정렬"
   ]
  },
  {
   "cell_type": "markdown",
   "id": "12a7f4ed-edee-4cd2-b1ad-2d225837c610",
   "metadata": {},
   "source": [
    "<img src = \"44.png\" width = 550>"
   ]
  },
  {
   "cell_type": "markdown",
   "id": "ec64e020-5aec-4e7d-9c4e-0bf64443d418",
   "metadata": {},
   "source": [
    "# summary"
   ]
  },
  {
   "cell_type": "markdown",
   "id": "51b83efe-abf6-4c22-be55-aa8b0e92cb91",
   "metadata": {},
   "source": [
    "1. 누계는 가각의 값을 누적해서 보는 개념이다.\n",
    "\n",
    "2. 차이는 앞의 있는 항목과 어느 정도 차이가 나는지를 구하는 것!\n",
    "\n",
    "3. 구성비율은 전체에서 각 멤버들의 비중을 확인할때 활용!\n",
    "\n",
    "4. 순위는 각 멤버들의 측정값을 기준으로 순위를 나타날 때 사용한다."
   ]
  }
 ],
 "metadata": {
  "kernelspec": {
   "display_name": "Python 3 (ipykernel)",
   "language": "python",
   "name": "python3"
  },
  "language_info": {
   "codemirror_mode": {
    "name": "ipython",
    "version": 3
   },
   "file_extension": ".py",
   "mimetype": "text/x-python",
   "name": "python",
   "nbconvert_exporter": "python",
   "pygments_lexer": "ipython3",
   "version": "3.11.4"
  }
 },
 "nbformat": 4,
 "nbformat_minor": 5
}
