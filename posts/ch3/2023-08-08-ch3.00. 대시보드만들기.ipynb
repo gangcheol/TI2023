{
 "cells": [
  {
   "cell_type": "raw",
   "id": "6ebb6619-2a20-4365-a8c4-bffd879cac9a",
   "metadata": {},
   "source": [
    "---\n",
    "title : \"00. 대시보드 만들기\"\n",
    "author : \"GANGCHEOL LEE\"\n",
    "date : \"08/08/23\"\n",
    "categories : [\"tableau \"]\n",
    "---"
   ]
  },
  {
   "cell_type": "markdown",
   "id": "b55d1fe3-b13f-41ec-a0c5-b225d5ff8fc3",
   "metadata": {},
   "source": [
    "# 대시보드 만들기"
   ]
  },
  {
   "cell_type": "markdown",
   "id": "294233ca-9f8c-415f-9c2f-f0719603b0af",
   "metadata": {},
   "source": [
    "## 연간매출"
   ]
  },
  {
   "cell_type": "markdown",
   "id": "d5813d5a-909e-4971-93cd-a6495b1f98a3",
   "metadata": {},
   "source": [
    "`-` 연간매출 워크시트 생성"
   ]
  },
  {
   "cell_type": "markdown",
   "id": "2705f7e1-e7b1-4592-8bac-55059bb237e8",
   "metadata": {},
   "source": [
    "* 주문일자와 매출을 이용하여 하이라이트 테이블 생성"
   ]
  },
  {
   "cell_type": "markdown",
   "id": "a8959d75-0ccf-4b7f-a371-a6d42dce6a84",
   "metadata": {},
   "source": [
    "<img src = \"1.png\" width=800>"
   ]
  },
  {
   "cell_type": "markdown",
   "id": "e77c72d6-e673-470e-bedd-6595adeda567",
   "metadata": {},
   "source": [
    "## 월간 매출"
   ]
  },
  {
   "cell_type": "markdown",
   "id": "78d1c4fb-1436-476b-adbc-ae07c693b599",
   "metadata": {},
   "source": [
    "`-` 월간매출 워크시트 생성 (2018 ~ 2021에 월간 매출 합을 계산)"
   ]
  },
  {
   "cell_type": "markdown",
   "id": "1a275069-7d00-4bfe-a387-cb2a9459f269",
   "metadata": {},
   "source": [
    "<img src = \"2.png\" width=800>"
   ]
  },
  {
   "cell_type": "markdown",
   "id": "de210533-02fb-4ed4-8759-6112a175f2d8",
   "metadata": {},
   "source": [
    "## 시도별 매출"
   ]
  },
  {
   "cell_type": "markdown",
   "id": "a02a247e-74e9-4333-bea7-c43cacaa9e3c",
   "metadata": {},
   "source": [
    "`-` 시도별 매출을 지도형태로 표현"
   ]
  },
  {
   "cell_type": "markdown",
   "id": "9180e4b4-6ab8-459f-b2c8-3a32989f4f63",
   "metadata": {},
   "source": [
    "`-` 시도 변수를 이용하여 위도와 경도 데이터 산출"
   ]
  },
  {
   "cell_type": "markdown",
   "id": "8e33bb0b-c031-49fe-b842-35aae84f7b8c",
   "metadata": {},
   "source": [
    "<img src = \"3.png\" width=250>"
   ]
  },
  {
   "cell_type": "markdown",
   "id": "139136f5-aa3c-468d-bc9e-d12bc20347f2",
   "metadata": {},
   "source": [
    "`-` 그런 다음 새로운 워크시트를 생성해 시도를 더블클릭"
   ]
  },
  {
   "cell_type": "markdown",
   "id": "4d86ac15-b1f4-419c-8a27-84019009e78b",
   "metadata": {},
   "source": [
    "`-` 그 다음 마크를 맵으로 변경"
   ]
  },
  {
   "cell_type": "markdown",
   "id": "eb8b6243-3901-4cd7-8ccb-a5d37f13fde0",
   "metadata": {},
   "source": [
    "<img src = \"4.png\" width=800>"
   ]
  },
  {
   "cell_type": "markdown",
   "id": "f1ff220e-323f-4a9e-b04a-4c62d8e7bf4e",
   "metadata": {},
   "source": [
    "`-` 백그라운드 레이어 선택후 투명도를 100으로 설정"
   ]
  },
  {
   "cell_type": "markdown",
   "id": "ee284b21-5c0a-441c-921f-7f1a11f2f1e5",
   "metadata": {},
   "source": [
    "<img src = \"5.png\" width=200>"
   ]
  },
  {
   "cell_type": "markdown",
   "id": "ad5fc570-8405-4a31-8dca-44b308290114",
   "metadata": {},
   "source": [
    "<img src = \"6.png\" width=500>"
   ]
  },
  {
   "cell_type": "markdown",
   "id": "cec99bcb-9032-4712-a504-722af5763ac3",
   "metadata": {},
   "source": [
    "`-` 매출을 색상 마크에 드래그"
   ]
  },
  {
   "cell_type": "markdown",
   "id": "ff1d152b-c49d-4091-b1fe-f8650bb28b34",
   "metadata": {},
   "source": [
    "<img src = \"7.png\" width=500>"
   ]
  },
  {
   "cell_type": "markdown",
   "id": "1d061608-12db-42ed-87e2-0678ae739ccb",
   "metadata": {},
   "source": [
    "### 맵차트에 파이차트 오버레이"
   ]
  },
  {
   "cell_type": "markdown",
   "id": "821bda50-7dd8-49ca-8600-8e76dcf51454",
   "metadata": {},
   "source": [
    "`-` 열에 경도를 `ctrl + 마우스 왼쪽`으로 드래그"
   ]
  },
  {
   "cell_type": "markdown",
   "id": "52b3714f-d5de-4865-8d65-b074ee2dfc3e",
   "metadata": {},
   "source": [
    "<img src = \"8.png\" width=250>"
   ]
  },
  {
   "cell_type": "markdown",
   "id": "8bce909a-b100-4463-a4f3-80086a28bfc7",
   "metadata": {},
   "source": [
    "`-` 새롭게 산출된 `경도(생성됨 (2))`에서 합계(매출을) 마크에서 제외하고 맵을 파이차트로 변경"
   ]
  },
  {
   "cell_type": "markdown",
   "id": "6eb28abd-527f-40ab-a88a-f4167579a890",
   "metadata": {},
   "source": [
    "<img src = \"9.png\" width=150>"
   ]
  },
  {
   "cell_type": "markdown",
   "id": "a64a1b6a-219c-43c4-9df0-d0f7231ea40c",
   "metadata": {},
   "source": [
    "`-` 그 후, 고객 세그먼트를 색상, 매출을 크기와 각도로 넣고 효과있는 색상 테두리를 흰색으로 지정"
   ]
  },
  {
   "cell_type": "markdown",
   "id": "bd87c990-2b04-4b74-868e-2c3242f5c0a1",
   "metadata": {},
   "source": [
    "<img src = \"10.png\" width=750>"
   ]
  },
  {
   "cell_type": "markdown",
   "id": "57146369-21e9-4e9c-aaf8-198ef414b1ec",
   "metadata": {},
   "source": [
    "`-` 이중축 사용"
   ]
  },
  {
   "cell_type": "markdown",
   "id": "db538445-0847-46ce-acc1-9f2372810360",
   "metadata": {},
   "source": [
    "<img src = \"11.png\" width=200>"
   ]
  },
  {
   "cell_type": "markdown",
   "id": "a3301df4-075f-4bad-8c0a-c166b8583ea4",
   "metadata": {},
   "source": [
    "<img src = \"12.png\" width=500>"
   ]
  },
  {
   "cell_type": "markdown",
   "id": "f98bf52c-844a-4c85-a5a6-71df6e59a902",
   "metadata": {},
   "source": [
    "## 대시보드 생성"
   ]
  },
  {
   "cell_type": "markdown",
   "id": "db135146-d3dd-4486-883c-14c41de2bf1e",
   "metadata": {},
   "source": [
    "`-` 매출 대시보드 생성 후 연간 매출을 드래그"
   ]
  },
  {
   "cell_type": "markdown",
   "id": "dd85b3a2-c01e-4d1f-8135-343284be1a4c",
   "metadata": {},
   "source": [
    "`-` 그다음 `ctrl + 마우스 왼쪽`으로 월간 매출을 드래그하여 아래, 시도별 매출을 월간 매출 오른쪽에 드래그"
   ]
  },
  {
   "cell_type": "markdown",
   "id": "5c732e7f-443b-468c-9546-3d6be3a9afcc",
   "metadata": {},
   "source": [
    "<img src =\"13.png\" width = 600>"
   ]
  },
  {
   "cell_type": "markdown",
   "id": "1adbc68b-b32d-47f3-ba95-5d70d996d750",
   "metadata": {},
   "source": [
    "`-` 생성된 대시보드의 범례를 보니 고객세그먼트를 제외하고 나머지 범례는 필요가 없는것 같다."
   ]
  },
  {
   "cell_type": "markdown",
   "id": "31e4502e-dc35-498a-a751-e47b05e16013",
   "metadata": {},
   "source": [
    "`-` 고객 세그먼트를 제외한 범례들을 제거하고, 고객 세그먼트 범례의 세모박스를 클릭 후 부통을 체크해 적절한 공간에 배치하자."
   ]
  },
  {
   "cell_type": "markdown",
   "id": "31f25ceb-f1d1-4d07-87db-d86b0fdd15f0",
   "metadata": {},
   "source": [
    "<img src =\"14.png\" width = 600>"
   ]
  },
  {
   "cell_type": "markdown",
   "id": "3112d878-ffea-41f3-8223-ffc0a3269a2c",
   "metadata": {},
   "source": [
    "`-` 또한, 연간 매출은 쓸데없이 너무 큰 비율을 차지한다. 마우스로 적당히 드래그하여 변경해준다."
   ]
  },
  {
   "cell_type": "markdown",
   "id": "d139c91f-63e5-448c-b19b-aded272c39f2",
   "metadata": {},
   "source": [
    "<img src = \"15.png\" width = 500>"
   ]
  },
  {
   "cell_type": "markdown",
   "id": "421d9191-c323-469b-8ef5-3167d89c6ce1",
   "metadata": {},
   "source": [
    "### 연간매출 클릭시 월간매출과 시도 매출에 변화옵션추가"
   ]
  },
  {
   "cell_type": "markdown",
   "id": "58e95aca-581d-4de2-b76c-37d568f743fa",
   "metadata": {},
   "source": [
    "`-` 상단 메뉴바에서 아래와 같이 선택"
   ]
  },
  {
   "cell_type": "markdown",
   "id": "518722a3-aef7-4914-89d1-e0c5d17e1a9c",
   "metadata": {},
   "source": [
    "<img src = \"16.png\" width = 200>"
   ]
  },
  {
   "cell_type": "markdown",
   "id": "f13bbd25-7ab0-441b-8b53-60a9f33c85ef",
   "metadata": {},
   "source": [
    "`-` 동작 추가 $\\to$ 필터 선택"
   ]
  },
  {
   "cell_type": "markdown",
   "id": "346a841d-a380-4d5f-8e2e-412f511937fd",
   "metadata": {},
   "source": [
    "<img src = \"17.png\" width = 300>"
   ]
  },
  {
   "cell_type": "markdown",
   "id": "0903bd77-7de7-461b-a6a8-0e5f8c8c6a43",
   "metadata": {},
   "source": [
    "`-` 동작 세부 옵션 추가"
   ]
  },
  {
   "cell_type": "markdown",
   "id": "11620291-ecdd-40fc-a6de-870807ec5275",
   "metadata": {},
   "source": [
    "<img src = \"18.png\" width = 300>"
   ]
  },
  {
   "cell_type": "markdown",
   "id": "441756e8-e7bb-4501-b9aa-c9a8c7f96404",
   "metadata": {},
   "source": [
    "`-` 월간 매출 클릭에 대한 동작 옵션도 위를 참고하여 작성 (2018 기준 변환 결과)"
   ]
  },
  {
   "cell_type": "markdown",
   "id": "fbe5ff23-af4f-412a-884b-cc7c2910c24a",
   "metadata": {},
   "source": [
    "<img src = \"19.png\" width = 500>"
   ]
  },
  {
   "cell_type": "markdown",
   "id": "e11af8b0-fece-48cc-9f75-c2831823ff1f",
   "metadata": {},
   "source": [
    "`-` 생성한 대시보드 공유"
   ]
  },
  {
   "cell_type": "markdown",
   "id": "cff5ffe9-31f2-41ea-8839-4472513cc8eb",
   "metadata": {},
   "source": [
    "`-` 파일 $\\to$ 태블로 퍼블릭에 다른 이름으로 저장 클릭 후 대시보드 이름 입력"
   ]
  },
  {
   "cell_type": "markdown",
   "id": "28b0c037-d731-4134-af8a-ef621a23b92c",
   "metadata": {},
   "source": [
    "[대시보드 링크](https://public.tableau.com/app/profile/leegangcheol/viz/_16914857162340/sheet3?publish=yes)"
   ]
  }
 ],
 "metadata": {
  "kernelspec": {
   "display_name": "Python 3 (ipykernel)",
   "language": "python",
   "name": "python3"
  },
  "language_info": {
   "codemirror_mode": {
    "name": "ipython",
    "version": 3
   },
   "file_extension": ".py",
   "mimetype": "text/x-python",
   "name": "python",
   "nbconvert_exporter": "python",
   "pygments_lexer": "ipython3",
   "version": "3.11.4"
  }
 },
 "nbformat": 4,
 "nbformat_minor": 5
}
