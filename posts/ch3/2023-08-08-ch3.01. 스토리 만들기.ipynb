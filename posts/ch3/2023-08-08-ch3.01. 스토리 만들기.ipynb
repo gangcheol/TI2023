{
 "cells": [
  {
   "cell_type": "raw",
   "id": "ef8898b7-692a-4106-ab43-387d93902896",
   "metadata": {},
   "source": [
    "---\n",
    "title : \"01. 스토리 만들기\"\n",
    "author : \"GANGCHEOL LEE\"\n",
    "date : \"08/08/23\"\n",
    "categories : [\"tableau \"]\n",
    "---"
   ]
  },
  {
   "cell_type": "markdown",
   "id": "ad3d2bf8-da1e-44ae-b753-7b21b760c7df",
   "metadata": {},
   "source": [
    "# 스토리 만들기"
   ]
  },
  {
   "cell_type": "markdown",
   "id": "cedc3861-61ac-4a4a-b939-4465e18cace0",
   "metadata": {},
   "source": [
    "## 수도권의 연간 매출 비중"
   ]
  },
  {
   "cell_type": "markdown",
   "id": "142d4955-20cf-42b7-88a4-3b36c1715760",
   "metadata": {},
   "source": [
    "`-` 지역 그룹 만들기"
   ]
  },
  {
   "cell_type": "markdown",
   "id": "4158dd8e-b4e6-4388-948c-f4c4850cebc0",
   "metadata": {},
   "source": [
    "<img src = \"20.png\" width = 200>"
   ]
  },
  {
   "cell_type": "markdown",
   "id": "32d204fa-57ea-4753-bd90-80ee725de708",
   "metadata": {},
   "source": [
    "`-` 수도권을 제외한 나머지 지역을 기타로 묶기"
   ]
  },
  {
   "cell_type": "markdown",
   "id": "3a281f4b-84e4-4320-986f-370f32783c66",
   "metadata": {},
   "source": [
    "<img src = \"21.png\" width = 200>"
   ]
  },
  {
   "cell_type": "markdown",
   "id": "e7c6cbd9-55ab-49d9-8232-54d65ad2eb20",
   "metadata": {},
   "source": [
    "`-` 생성한 `지역(그룹)` 변수와 `매출` 변수를 이용하여 파이차트 생성"
   ]
  },
  {
   "cell_type": "markdown",
   "id": "4c56e04a-ebee-45bf-8b2f-f11b14380612",
   "metadata": {},
   "source": [
    "* 주문일자를 열선반에놓고, 크기로 되어있는 합계(매출)을 마커에서 제거"
   ]
  },
  {
   "cell_type": "markdown",
   "id": "27ce4d41-520c-4e16-9e0a-21f3c8664157",
   "metadata": {},
   "source": [
    "* 다시 매출을 레이블 마커에 놓고 퀵테이블 계산에서 구성비율 선택"
   ]
  },
  {
   "cell_type": "markdown",
   "id": "faf14162-1217-41d1-8cb8-446615dbde54",
   "metadata": {},
   "source": [
    "* 생성한 레이블 마커에서 테이블 계산 편집을 눌러 아래와 같이 체크"
   ]
  },
  {
   "cell_type": "markdown",
   "id": "52430e61-31d9-47ed-a9c4-b7645c3b1c03",
   "metadata": {},
   "source": [
    "<img src = \"22.png\" width = 200>"
   ]
  },
  {
   "cell_type": "markdown",
   "id": "adf9c885-4331-4463-8235-39449394d249",
   "metadata": {},
   "source": [
    "* 그 후 서식에서  백분율 $\\to$ 소수점 2자리 까지로 변경"
   ]
  },
  {
   "cell_type": "markdown",
   "id": "59402d4c-5ee8-450e-9c62-dbbcf2794905",
   "metadata": {},
   "source": [
    "+ 그 후 각종 서식을 본인 입맞에 맞게 수정 하면"
   ]
  },
  {
   "cell_type": "markdown",
   "id": "55c323bc-c896-44bd-a790-8c8a7567cf8d",
   "metadata": {},
   "source": [
    "<img src = \"23.png\" width = 500>"
   ]
  },
  {
   "cell_type": "markdown",
   "id": "846f9264-d1e1-4ed4-baca-21b05315b095",
   "metadata": {},
   "source": [
    "## 제품 대분류별 연간 매출 비교(라인 차트)"
   ]
  },
  {
   "cell_type": "markdown",
   "id": "264cfcc6-58cb-4544-b778-c74572c3cf51",
   "metadata": {},
   "source": [
    "`-` 열선반에 제품대분류, 주문일자를 넣고 행 선반에는 매출을 드래그"
   ]
  },
  {
   "cell_type": "markdown",
   "id": "d54080df-5e7a-4275-bfa0-bc76b0554909",
   "metadata": {},
   "source": [
    "`-` 그 후 위 그래프처럼 매출의 퀵 테이블 계산을 구성비율로 변경 "
   ]
  },
  {
   "cell_type": "markdown",
   "id": "183a911e-7615-4be5-891d-0757e09d751d",
   "metadata": {},
   "source": [
    "`-` 아래와 같이 테이블 계산 편집 수행"
   ]
  },
  {
   "cell_type": "markdown",
   "id": "8f00d67f-5e47-4648-99dc-784e73eef424",
   "metadata": {},
   "source": [
    "<img src = \"24.png\" width = 150>"
   ]
  },
  {
   "cell_type": "markdown",
   "id": "4d7feaa2-f585-42e8-a3ff-4b2859f0f42d",
   "metadata": {},
   "source": [
    "`-` 축 편집을 이용하여 최소값부터 데이터를 표시"
   ]
  },
  {
   "cell_type": "markdown",
   "id": "8e12231b-71d8-4961-9c84-91991375afe8",
   "metadata": {},
   "source": [
    "<img src = \"25.png\" width = 250>"
   ]
  },
  {
   "cell_type": "markdown",
   "id": "431cf6a1-8ad3-4c54-b328-4f9e5d8d31db",
   "metadata": {},
   "source": [
    "`-` 분석 패널에서 0.5 상수라인을 추가"
   ]
  },
  {
   "cell_type": "markdown",
   "id": "95c4aa98-5867-4693-9e68-ba65d529bddf",
   "metadata": {},
   "source": [
    "`-` 시트 이름을 **\"제품 대분류별 연간 매출 비교\"** 로 설정"
   ]
  },
  {
   "cell_type": "markdown",
   "id": "55c63de9-935c-4909-83b8-5dc83f259224",
   "metadata": {},
   "source": [
    "<img src = \"26.png\" width = 550>"
   ]
  },
  {
   "cell_type": "markdown",
   "id": "f8c35e94-74fe-4d1a-a1f6-9e121c8399ec",
   "metadata": {},
   "source": [
    "## 제품 대분류별 분기별 매출 비교"
   ]
  },
  {
   "cell_type": "markdown",
   "id": "3cf9cdb8-7d09-4af0-849f-b3f97791fb47",
   "metadata": {},
   "source": [
    "`-` 연도별 매출 비교 복사 후 열선반에 년(주문일자)에 있는 \"+\"마커를 클릭하여 분기별 매출을 생성"
   ]
  },
  {
   "cell_type": "markdown",
   "id": "7bbbac46-42ef-402a-8785-e59fbf56efd4",
   "metadata": {},
   "source": [
    "<img src = \"27.png\" width = 550>"
   ]
  },
  {
   "cell_type": "markdown",
   "id": "4d65726d-9b96-4654-a60d-9a242468fa48",
   "metadata": {},
   "source": [
    "## 제품 대분류별 월별 매출 비교"
   ]
  },
  {
   "cell_type": "markdown",
   "id": "bb370705-e786-4f58-82a3-9eecbcc86285",
   "metadata": {},
   "source": [
    "`-` 시트 복사 후 분기를 선반 밖으로 놓고, 연속형 월별 변수 추가"
   ]
  },
  {
   "cell_type": "markdown",
   "id": "7a48e641-84f3-4dae-8213-a0a78afe0a9c",
   "metadata": {},
   "source": [
    "`-` 제품대분류도 선박 밖으러 뺀 후, 분석패널에서 다항식 추세선 추가"
   ]
  },
  {
   "cell_type": "markdown",
   "id": "0367d8d1-4997-4e40-a0fa-389baebefdd6",
   "metadata": {},
   "source": [
    "<img src = \"28.png\" width = 550>"
   ]
  },
  {
   "cell_type": "markdown",
   "id": "16a47521-a689-43c4-92fe-e28c6cc0f8a9",
   "metadata": {},
   "source": [
    "## 대시보드생성"
   ]
  },
  {
   "cell_type": "markdown",
   "id": "dc5c09bc-f588-4125-ad7f-8b0518555420",
   "metadata": {},
   "source": [
    "### 연간 매출 비중"
   ]
  },
  {
   "cell_type": "markdown",
   "id": "19d74cde-5add-43d7-93b9-367c9d005c69",
   "metadata": {},
   "source": [
    "`-` 새로운 대시보드 생성 후 이름 변경"
   ]
  },
  {
   "cell_type": "markdown",
   "id": "350613f2-3d33-4cbe-b7ca-1a6116308b07",
   "metadata": {},
   "source": [
    "### 대분류별 연간 매출 비교"
   ]
  },
  {
   "cell_type": "markdown",
   "id": "4b6cedbf-2e2c-403d-9ba3-e01f4ae72d71",
   "metadata": {},
   "source": [
    "`-` 생성한 대시보드 복사 후 시트에서 시트 바꾸기 선택"
   ]
  },
  {
   "cell_type": "markdown",
   "id": "59f89cfb-be38-4fe5-a720-d8d74232e981",
   "metadata": {},
   "source": [
    "`-` 분기별, 월별도 위와 동일하게 지정"
   ]
  },
  {
   "cell_type": "markdown",
   "id": "da4cd1e6-5074-4dcc-9a9b-a377c330fd30",
   "metadata": {},
   "source": [
    "`-` 생성한 대시보드 모두 \"모든 시트 숨기기\"를 설정"
   ]
  },
  {
   "cell_type": "markdown",
   "id": "be8a3a77-cb43-486e-9cdd-67b5245b3603",
   "metadata": {},
   "source": [
    "## 새 스토리 생성"
   ]
  },
  {
   "cell_type": "markdown",
   "id": "80620d1b-9974-45b6-8fa5-4acbe6aa51e3",
   "metadata": {},
   "source": [
    "`-` 새 스토리 생성 클릭 후, 대시보드를 드래그엔드롭"
   ]
  },
  {
   "cell_type": "markdown",
   "id": "35f7d705-e2af-4a2f-a2f2-1e6f2405698a",
   "metadata": {},
   "source": [
    "`-` 그 후, 캡션 추가"
   ]
  },
  {
   "cell_type": "markdown",
   "id": "bf173be4-7b49-400d-babc-df2c92477cac",
   "metadata": {},
   "source": [
    "`-` 그러면 캡션을 클릭할 때마다 변경된 대시보드를 확인할 수 있는 스토리를 생성!"
   ]
  },
  {
   "cell_type": "markdown",
   "id": "29a25a0a-bba2-444f-a5d6-0a4825ac8de1",
   "metadata": {},
   "source": [
    "<img src = \"29.png\" width = 550>"
   ]
  },
  {
   "cell_type": "markdown",
   "id": "af5b461c-637d-4adb-bbbf-1047508d8740",
   "metadata": {},
   "source": [
    "`-` 스토리를 우클릭하여 모든 시트숨기기로 대시보드를 모두 숨길 수 있다."
   ]
  },
  {
   "cell_type": "markdown",
   "id": "779073c6-a248-4613-904c-42a3d0990c75",
   "metadata": {},
   "source": [
    "## summary"
   ]
  },
  {
   "cell_type": "markdown",
   "id": "e1d032d2-2731-4590-af41-61209160d8c7",
   "metadata": {},
   "source": [
    "`-` 스토리 기능을 사용할 때는 스토리 포인트의 순서에 따라 작성 가능하다."
   ]
  },
  {
   "cell_type": "markdown",
   "id": "5d9ebd16-2bf3-47c6-aabd-900d053e08cf",
   "metadata": {},
   "source": [
    "`-` 스토리텔링을 위한 데이터 스토리 방식은 다음과 같다."
   ]
  },
  {
   "cell_type": "markdown",
   "id": "4a2cb2c4-2c71-46d3-9e1d-49d23146c964",
   "metadata": {},
   "source": [
    "* 시간의 순서에 따른 구성"
   ]
  },
  {
   "cell_type": "markdown",
   "id": "80dbf580-969f-46c7-9aaf-1f1a0405f5be",
   "metadata": {},
   "source": [
    "* 요약에서 세부적인 정보로 드릴 다운"
   ]
  },
  {
   "cell_type": "markdown",
   "id": "96a22442-2f66-4b53-808b-c15bc340bdfc",
   "metadata": {},
   "source": [
    "* 관심사를 확대"
   ]
  },
  {
   "cell_type": "markdown",
   "id": "2207dfe6-bb4b-435f-a3e5-271a87cd1f1f",
   "metadata": {},
   "source": [
    "* A vs B로 비교 대조 "
   ]
  },
  {
   "cell_type": "markdown",
   "id": "a5630dc2-0982-4849-9911-541224051a69",
   "metadata": {},
   "source": [
    "`-` 스토리텔링 고려사항"
   ]
  },
  {
   "cell_type": "markdown",
   "id": "29a98ef5-34ce-4716-9f86-3ff24bc95f03",
   "metadata": {},
   "source": [
    "* 누구에게 스토리텔링을 하는가"
   ]
  },
  {
   "cell_type": "markdown",
   "id": "b2e5ba8e-3b48-4795-9256-50b76cfae342",
   "metadata": {},
   "source": [
    "* 스토리포인트간 플로우를 잘 기획했는가"
   ]
  },
  {
   "cell_type": "markdown",
   "id": "f2586fa7-8e0b-4ceb-b564-aa4e1529ea67",
   "metadata": {},
   "source": [
    "* 데이터 시각화와 스토리 포인트가 일치하는가"
   ]
  },
  {
   "cell_type": "markdown",
   "id": "d5108e35-7ba9-4bef-a645-0243a361cff0",
   "metadata": {},
   "source": [
    "* 청중이 중간에 이탈하지 않고 스토리가 잘 전개되고 있는가"
   ]
  },
  {
   "cell_type": "markdown",
   "id": "5ea40bec-624b-4328-af9f-94f6eb359b8d",
   "metadata": {},
   "source": [
    "* 스토리를 불러오는데 로드 없이 구성되어 있는가"
   ]
  },
  {
   "cell_type": "markdown",
   "id": "5fc7f099-bfd0-4386-96a5-b21e5d78a07d",
   "metadata": {},
   "source": [
    "* 각 대시보드의 인사이트간 이질성이 없는가?"
   ]
  }
 ],
 "metadata": {
  "kernelspec": {
   "display_name": "Python 3 (ipykernel)",
   "language": "python",
   "name": "python3"
  },
  "language_info": {
   "codemirror_mode": {
    "name": "ipython",
    "version": 3
   },
   "file_extension": ".py",
   "mimetype": "text/x-python",
   "name": "python",
   "nbconvert_exporter": "python",
   "pygments_lexer": "ipython3",
   "version": "3.11.4"
  }
 },
 "nbformat": 4,
 "nbformat_minor": 5
}
